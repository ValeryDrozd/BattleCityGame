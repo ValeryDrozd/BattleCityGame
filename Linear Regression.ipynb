{
 "cells": [
  {
   "cell_type": "markdown",
   "id": "35f642ec-8fba-4214-8e8b-1807a2f575c7",
   "metadata": {},
   "source": [
    "# Imports"
   ]
  },
  {
   "cell_type": "code",
   "execution_count": 1,
   "id": "8390d182-c49b-4eb5-811e-adacb62e4e5b",
   "metadata": {},
   "outputs": [],
   "source": [
    "import pandas as pd\n",
    "import numpy as np\n",
    "from sklearn import linear_model\n",
    "import matplotlib.pyplot as plt\n",
    "from sklearn.model_selection import train_test_split\n",
    "from sklearn.decomposition import PCA"
   ]
  },
  {
   "cell_type": "markdown",
   "id": "d341aaa3-02f8-4e3d-b621-e83c791930a1",
   "metadata": {},
   "source": [
    "## Reading CSV"
   ]
  },
  {
   "cell_type": "code",
   "execution_count": 2,
   "id": "c0ced21e-5d83-499b-a611-8a727a304161",
   "metadata": {},
   "outputs": [],
   "source": [
    "dataset = pd.read_csv('./output1.csv')[['win', 'time', 'points']]"
   ]
  },
  {
   "cell_type": "code",
   "execution_count": 3,
   "id": "d9c735ef-9bf9-49ea-9ae0-1033a72bb9da",
   "metadata": {},
   "outputs": [
    {
     "data": {
      "text/html": [
       "<div>\n",
       "<style scoped>\n",
       "    .dataframe tbody tr th:only-of-type {\n",
       "        vertical-align: middle;\n",
       "    }\n",
       "\n",
       "    .dataframe tbody tr th {\n",
       "        vertical-align: top;\n",
       "    }\n",
       "\n",
       "    .dataframe thead th {\n",
       "        text-align: right;\n",
       "    }\n",
       "</style>\n",
       "<table border=\"1\" class=\"dataframe\">\n",
       "  <thead>\n",
       "    <tr style=\"text-align: right;\">\n",
       "      <th></th>\n",
       "      <th>win</th>\n",
       "      <th>time</th>\n",
       "      <th>points</th>\n",
       "    </tr>\n",
       "  </thead>\n",
       "  <tbody>\n",
       "    <tr>\n",
       "      <th>0</th>\n",
       "      <td>True</td>\n",
       "      <td>39078</td>\n",
       "      <td>70490</td>\n",
       "    </tr>\n",
       "    <tr>\n",
       "      <th>1</th>\n",
       "      <td>True</td>\n",
       "      <td>32640</td>\n",
       "      <td>44320</td>\n",
       "    </tr>\n",
       "    <tr>\n",
       "      <th>2</th>\n",
       "      <td>True</td>\n",
       "      <td>27762</td>\n",
       "      <td>50000</td>\n",
       "    </tr>\n",
       "    <tr>\n",
       "      <th>3</th>\n",
       "      <td>True</td>\n",
       "      <td>17238</td>\n",
       "      <td>24980</td>\n",
       "    </tr>\n",
       "    <tr>\n",
       "      <th>4</th>\n",
       "      <td>True</td>\n",
       "      <td>41724</td>\n",
       "      <td>63560</td>\n",
       "    </tr>\n",
       "    <tr>\n",
       "      <th>...</th>\n",
       "      <td>...</td>\n",
       "      <td>...</td>\n",
       "      <td>...</td>\n",
       "    </tr>\n",
       "    <tr>\n",
       "      <th>69</th>\n",
       "      <td>True</td>\n",
       "      <td>24534</td>\n",
       "      <td>51390</td>\n",
       "    </tr>\n",
       "    <tr>\n",
       "      <th>70</th>\n",
       "      <td>False</td>\n",
       "      <td>15666</td>\n",
       "      <td>41780</td>\n",
       "    </tr>\n",
       "    <tr>\n",
       "      <th>71</th>\n",
       "      <td>True</td>\n",
       "      <td>17376</td>\n",
       "      <td>34570</td>\n",
       "    </tr>\n",
       "    <tr>\n",
       "      <th>72</th>\n",
       "      <td>True</td>\n",
       "      <td>23610</td>\n",
       "      <td>53500</td>\n",
       "    </tr>\n",
       "    <tr>\n",
       "      <th>73</th>\n",
       "      <td>True</td>\n",
       "      <td>30882</td>\n",
       "      <td>32870</td>\n",
       "    </tr>\n",
       "  </tbody>\n",
       "</table>\n",
       "<p>74 rows × 3 columns</p>\n",
       "</div>"
      ],
      "text/plain": [
       "      win   time  points\n",
       "0    True  39078   70490\n",
       "1    True  32640   44320\n",
       "2    True  27762   50000\n",
       "3    True  17238   24980\n",
       "4    True  41724   63560\n",
       "..    ...    ...     ...\n",
       "69   True  24534   51390\n",
       "70  False  15666   41780\n",
       "71   True  17376   34570\n",
       "72   True  23610   53500\n",
       "73   True  30882   32870\n",
       "\n",
       "[74 rows x 3 columns]"
      ]
     },
     "execution_count": 3,
     "metadata": {},
     "output_type": "execute_result"
    }
   ],
   "source": [
    "dataset"
   ]
  },
  {
   "cell_type": "code",
   "execution_count": 4,
   "id": "2ba93954-31ab-4e86-8777-46b63103ca24",
   "metadata": {},
   "outputs": [],
   "source": [
    "dataset, test_data = dataset.iloc[:-5], dataset.iloc[-5:]"
   ]
  },
  {
   "cell_type": "code",
   "execution_count": 5,
   "id": "ed2ac655-9a11-4389-810f-fb97a7b03d4a",
   "metadata": {},
   "outputs": [],
   "source": [
    "X_components = ['win', 'time']\n",
    "X = dataset[X_components]\n",
    "Y = dataset.points"
   ]
  },
  {
   "cell_type": "code",
   "execution_count": 6,
   "id": "ebdfa285-bb7a-44e7-9e40-3cbded6a1fca",
   "metadata": {},
   "outputs": [],
   "source": [
    "win_dataset = dataset[dataset.win == True]\n",
    "lose_dataset = dataset[dataset.win == False]"
   ]
  },
  {
   "cell_type": "code",
   "execution_count": 7,
   "id": "11c08000-146b-4814-96b7-299e86fcc964",
   "metadata": {},
   "outputs": [],
   "source": [
    "pca = PCA(n_components=2, random_state=42)"
   ]
  },
  {
   "cell_type": "code",
   "execution_count": 8,
   "id": "0e68258d-9539-4545-b302-be10b9deabf2",
   "metadata": {},
   "outputs": [],
   "source": [
    "fit_x, fit_y = pca.fit_transform(X).T"
   ]
  },
  {
   "cell_type": "markdown",
   "id": "61a4b493-2c94-4cf9-afa8-8d60efb92283",
   "metadata": {},
   "source": [
    "# Linear Regression"
   ]
  },
  {
   "cell_type": "code",
   "execution_count": 14,
   "id": "2f2c75d4-f2cb-43d4-a252-ddcff70de1a5",
   "metadata": {},
   "outputs": [],
   "source": [
    "fit_win_x, _ = pca.fit_transform(win_dataset[X_components]).T\n",
    "fit_lose_x, _ = pca.fit_transform(lose_dataset[X_components]).T"
   ]
  },
  {
   "cell_type": "code",
   "execution_count": 20,
   "id": "d397c80e-6992-4d2e-a78a-abf6bb893e3a",
   "metadata": {},
   "outputs": [
    {
     "data": {
      "image/png": "[encoded data removed]",
      "text/plain": [
       "<Figure size 720x720 with 1 Axes>"
      ]
     },
     "metadata": {
      "needs_background": "light"
     },
     "output_type": "display_data"
    }
   ],
   "source": [
    "fig = plt.figure(figsize=(10, 10))\n",
    "m1 = plt.scatter(fit_win_x, win_dataset.points, s=10, color=\"green\")\n",
    "m2 = plt.scatter(fit_lose_x, lose_dataset.points, s=10, color=\"red\")\n",
    "# m2 = plt.scatter(fit_lose_y, fit_lose_y, s=10)"
   ]
  },
  {
   "cell_type": "code",
   "execution_count": 10,
   "id": "b87322d3-dace-426e-addc-d3f02f1fed61",
   "metadata": {},
   "outputs": [],
   "source": [
    "model = linear_model.LinearRegression()"
   ]
  },
  {
   "cell_type": "code",
   "execution_count": 11,
   "id": "ef27cc53-9275-49e9-9eec-a845964be3a6",
   "metadata": {},
   "outputs": [
    {
     "data": {
      "text/plain": [
       "LinearRegression()"
      ]
     },
     "execution_count": 11,
     "metadata": {},
     "output_type": "execute_result"
    }
   ],
   "source": [
    "model.fit(X, Y)"
   ]
  },
  {
   "cell_type": "code",
   "execution_count": 12,
   "id": "045421a1-d258-4e7f-8188-291c08927233",
   "metadata": {},
   "outputs": [],
   "source": [
    "y_pred_line_win = model.predict(win_dataset[X_components])\n",
    "y_pred_line_lose = model.predict(lose_dataset[X_components])"
   ]
  },
  {
   "cell_type": "code",
   "execution_count": 13,
   "id": "9832ab4b-71eb-48dc-b3bd-8e338ee3e03c",
   "metadata": {},
   "outputs": [],
   "source": [
    "fit_pred_win_X, fit_pred_win_Y = pca.fit_transform(win_dataset[X_components], pd.DataFrame(y_pred_line_win)[0]).T\n",
    "fit_pred_lose_X, fit_pred_lose_Y = pca.fit_transform(lose_dataset[X_components], pd.DataFrame(y_pred_line_lose)[0]).T\n",
    "# pca.transform(win_dataset[X_components], pd.DataFrame(y_pred_line_win)[0]).T"
   ]
  },
  {
   "cell_type": "code",
   "execution_count": 15,
   "id": "124ac350-2f75-4927-b7b3-565c7eddaadc",
   "metadata": {},
   "outputs": [
    {
     "data": {
      "text/plain": [
       "[<matplotlib.lines.Line2D at 0x224ca102dc0>]"
      ]
     },
     "execution_count": 15,
     "metadata": {},
     "output_type": "execute_result"
    },
    {
     "data": {
      "image/png": "[encoded data removed]",
      "text/plain": [
       "<Figure size 1440x720 with 1 Axes>"
      ]
     },
     "metadata": {
      "needs_background": "light"
     },
     "output_type": "display_data"
    }
   ],
   "source": [
    "fig = plt.figure(figsize=(20, 10))\n",
    "m1 = plt.scatter(fit_win_x, win_dataset.points, s=10, color=\"green\")\n",
    "m2 = plt.scatter(fit_lose_x, lose_dataset.points, s=10, color=\"red\")\n",
    "plt.plot(fit_pred_win_X, y_pred_line_win, color=\"green\", linewidth=2, label=\"Prediction\")\n",
    "plt.plot(fit_pred_lose_X, y_pred_line_lose, color=\"red\", linewidth=2, label=\"Prediction\")"
   ]
  },
  {
   "cell_type": "code",
   "execution_count": 16,
   "id": "6babb9ab-680a-4de4-9dcf-9ef1c3b66d22",
   "metadata": {},
   "outputs": [],
   "source": [
    "check_table = pd.DataFrame(columns=['win', 'time', 'points', 'new_points'])"
   ]
  },
  {
   "cell_type": "code",
   "execution_count": 17,
   "id": "79fd71d3-5ac1-4c5a-8aec-66c60a161ae7",
   "metadata": {},
   "outputs": [
    {
     "data": {
      "text/plain": [
       "69    51390\n",
       "70    41780\n",
       "71    34570\n",
       "72    53500\n",
       "73    32870\n",
       "Name: points, dtype: int64"
      ]
     },
     "execution_count": 17,
     "metadata": {},
     "output_type": "execute_result"
    }
   ],
   "source": [
    "test_data.points"
   ]
  },
  {
   "cell_type": "code",
   "execution_count": 18,
   "id": "e4986470-bb85-4c9e-963b-ba0c62d07462",
   "metadata": {},
   "outputs": [],
   "source": [
    "check_table.win = test_data.win\n",
    "check_table.time = test_data.time\n",
    "check_table.points = test_data.points\n",
    "check_table.new_points = check_table.apply(lambda row: model.predict(pd.DataFrame(columns=X_components).append(row[X_components]))[0], axis=1)"
   ]
  },
  {
   "cell_type": "code",
   "execution_count": 19,
   "id": "49db5fcd-5e3a-4700-a539-8c7eaf0fa408",
   "metadata": {},
   "outputs": [
    {
     "data": {
      "text/html": [
       "<div>\n",
       "<style scoped>\n",
       "    .dataframe tbody tr th:only-of-type {\n",
       "        vertical-align: middle;\n",
       "    }\n",
       "\n",
       "    .dataframe tbody tr th {\n",
       "        vertical-align: top;\n",
       "    }\n",
       "\n",
       "    .dataframe thead th {\n",
       "        text-align: right;\n",
       "    }\n",
       "</style>\n",
       "<table border=\"1\" class=\"dataframe\">\n",
       "  <thead>\n",
       "    <tr style=\"text-align: right;\">\n",
       "      <th></th>\n",
       "      <th>win</th>\n",
       "      <th>time</th>\n",
       "      <th>points</th>\n",
       "      <th>new_points</th>\n",
       "    </tr>\n",
       "  </thead>\n",
       "  <tbody>\n",
       "    <tr>\n",
       "      <th>69</th>\n",
       "      <td>True</td>\n",
       "      <td>24534</td>\n",
       "      <td>51390</td>\n",
       "      <td>50144.794055</td>\n",
       "    </tr>\n",
       "    <tr>\n",
       "      <th>70</th>\n",
       "      <td>False</td>\n",
       "      <td>15666</td>\n",
       "      <td>41780</td>\n",
       "      <td>34223.129502</td>\n",
       "    </tr>\n",
       "    <tr>\n",
       "      <th>71</th>\n",
       "      <td>True</td>\n",
       "      <td>17376</td>\n",
       "      <td>34570</td>\n",
       "      <td>40982.361584</td>\n",
       "    </tr>\n",
       "    <tr>\n",
       "      <th>72</th>\n",
       "      <td>True</td>\n",
       "      <td>23610</td>\n",
       "      <td>53500</td>\n",
       "      <td>48962.049210</td>\n",
       "    </tr>\n",
       "    <tr>\n",
       "      <th>73</th>\n",
       "      <td>True</td>\n",
       "      <td>30882</td>\n",
       "      <td>32870</td>\n",
       "      <td>58270.404747</td>\n",
       "    </tr>\n",
       "  </tbody>\n",
       "</table>\n",
       "</div>"
      ],
      "text/plain": [
       "      win   time  points    new_points\n",
       "69   True  24534   51390  50144.794055\n",
       "70  False  15666   41780  34223.129502\n",
       "71   True  17376   34570  40982.361584\n",
       "72   True  23610   53500  48962.049210\n",
       "73   True  30882   32870  58270.404747"
      ]
     },
     "execution_count": 19,
     "metadata": {},
     "output_type": "execute_result"
    }
   ],
   "source": [
    "check_table"
   ]
  },
  {
   "cell_type": "code",
   "execution_count": null,
   "id": "03f93cb9-0e07-4369-9397-953a3852da46",
   "metadata": {},
   "outputs": [],
   "source": []
  }
 ],
 "metadata": {
  "kernelspec": {
   "display_name": "Python 3 (ipykernel)",
   "language": "python",
   "name": "python3"
  },
  "language_info": {
   "codemirror_mode": {
    "name": "ipython",
    "version": 3
   },
   "file_extension": ".py",
   "mimetype": "text/x-python",
   "name": "python",
   "nbconvert_exporter": "python",
   "pygments_lexer": "ipython3",
   "version": "3.9.6"
  }
 },
 "nbformat": 4,
 "nbformat_minor": 5
}